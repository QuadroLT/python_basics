{
 "cells": [
  {
   "cell_type": "markdown",
   "id": "beb9af0c",
   "metadata": {},
   "source": [
    "# Welcome to python tutorial"
   ]
  },
  {
   "cell_type": "markdown",
   "id": "da6d7581",
   "metadata": {},
   "source": [
    "## About language\n",
    "\n",
    "Python is object-oriented, general-purpose language. It is interprested and dynamicaly typed. This made it popular for:\n",
    "- system scripting\n",
    "- web development\n",
    "- scientific computing"
   ]
  },
  {
   "cell_type": "markdown",
   "id": "bd0972a6",
   "metadata": {},
   "source": [
    "## Objects in python"
   ]
  },
  {
   "cell_type": "markdown",
   "id": "420f274b",
   "metadata": {},
   "source": [
    "Everything inside of python is an objects. Objects may have several different types. Python comes with following built in types:\n",
    "- numetic types \n",
    "- strings\n",
    "- compound types:\n",
    "    - lists\n",
    "    - tuples\n",
    "    - sets\n",
    "    - dictionaries\n",
    "\n",
    "### Numeric types\n",
    "\n",
    "- Integers\n",
    "- Floats\n",
    "- Complex\n",
    "\n",
    "Type of the object may be checked by built-in `type()` function"
   ]
  },
  {
   "cell_type": "code",
   "execution_count": 3,
   "id": "b30563ea",
   "metadata": {},
   "outputs": [
    {
     "name": "stdout",
     "output_type": "stream",
     "text": [
      "type of a - <class 'int'>\n",
      "type of b - <class 'float'>\n",
      "type of c - <class 'complex'>\n"
     ]
    }
   ],
   "source": [
    "a = 5\n",
    "b = 2.7\n",
    "c = 5 + 2.5j\n",
    "\n",
    "print('type of a -', type(a))\n",
    "print('type of b -', type(b))\n",
    "print('type of c -', type(c))"
   ]
  },
  {
   "cell_type": "markdown",
   "id": "bc3c97b3",
   "metadata": {},
   "source": [
    "Certain mathematical can be performed on numbers\n",
    "- `+` addition\n",
    "- `-` substraction\n",
    "- `/` division\n",
    "- `//` floor division\n",
    "- `%` remainder"
   ]
  },
  {
   "cell_type": "code",
   "execution_count": 12,
   "id": "b3eab314",
   "metadata": {},
   "outputs": [
    {
     "name": "stdout",
     "output_type": "stream",
     "text": [
      "a + b = 7.7\n",
      "a - b = 2.3\n",
      "a * b = 13.5\n",
      "a / b = 1.8518518518518516\n",
      "a // 2 = 2\n",
      "a % 2 = 1\n"
     ]
    }
   ],
   "source": [
    "print('a + b =', a + b)\n",
    "print('a - b =', a - b)\n",
    "print('a * b =', a * b)\n",
    "print('a / b =', a / b)\n",
    "print('a // 2 =', a // 2) # more relevant to itegers\n",
    "print('a % 2 =', a % 2) # more relevant to integers"
   ]
  },
  {
   "cell_type": "markdown",
   "id": "fcaeb56a",
   "metadata": {},
   "source": [
    "### Strings\n",
    "\n",
    "\n",
    "Other significant type is a string. String is typicaly defined `'some string'` or `\"some other string\"`. Strings being one of complex types have several properties:\n",
    "- may be concatenated: `'Hello' + 'world!'`\n",
    "- specific character may be retieved by index:"
   ]
  },
  {
   "cell_type": "code",
   "execution_count": 20,
   "id": "2beda0b3",
   "metadata": {},
   "outputs": [
    {
     "name": "stdout",
     "output_type": "stream",
     "text": [
      "<class 'str'>\n",
      "hello world\n",
      "e\n"
     ]
    }
   ],
   "source": [
    "a = 'hello '\n",
    "print(type(a))\n",
    "b = 'world'\n",
    "print(a + b)\n",
    "\n",
    "print(a[1])"
   ]
  },
  {
   "cell_type": "markdown",
   "id": "4e469e74",
   "metadata": {},
   "source": [
    "- strings are imutable, so it impossible assign "
   ]
  },
  {
   "cell_type": "code",
   "execution_count": 21,
   "id": "a957cd62",
   "metadata": {},
   "outputs": [
    {
     "ename": "TypeError",
     "evalue": "'str' object does not support item assignment",
     "output_type": "error",
     "traceback": [
      "\u001b[0;31m---------------------------------------------------------------------------\u001b[0m",
      "\u001b[0;31mTypeError\u001b[0m                                 Traceback (most recent call last)",
      "\u001b[0;32m<ipython-input-21-a90640cea110>\u001b[0m in \u001b[0;36m<module>\u001b[0;34m\u001b[0m\n\u001b[0;32m----> 1\u001b[0;31m \u001b[0ma\u001b[0m\u001b[0;34m[\u001b[0m\u001b[0;36m2\u001b[0m\u001b[0;34m]\u001b[0m \u001b[0;34m=\u001b[0m \u001b[0ma\u001b[0m\u001b[0;34m\u001b[0m\u001b[0;34m\u001b[0m\u001b[0m\n\u001b[0m",
      "\u001b[0;31mTypeError\u001b[0m: 'str' object does not support item assignment"
     ]
    }
   ],
   "source": [
    "a[2] = a"
   ]
  },
  {
   "cell_type": "markdown",
   "id": "5ee8bd64",
   "metadata": {},
   "source": [
    "stings have several useful methods:\n",
    "- `string.split(char)` stplits string at the each occurence of character"
   ]
  },
  {
   "cell_type": "code",
   "execution_count": 25,
   "id": "e5ef93d9",
   "metadata": {},
   "outputs": [
    {
     "data": {
      "text/plain": [
       "['hello', 'world']"
      ]
     },
     "execution_count": 25,
     "metadata": {},
     "output_type": "execute_result"
    }
   ],
   "source": [
    "a = 'hello world'\n",
    "a.split(' ')"
   ]
  },
  {
   "cell_type": "markdown",
   "id": "21084367",
   "metadata": {},
   "source": [
    "- `string.lstrip(char), string.rstrip(char), string.strip(char)` if no arguments passed, will strip all whitespace characters"
   ]
  },
  {
   "cell_type": "code",
   "execution_count": 31,
   "id": "96a87276",
   "metadata": {},
   "outputs": [
    {
     "name": "stdout",
     "output_type": "stream",
     "text": [
      "some string*\n",
      "*some string\n",
      "some string\n"
     ]
    }
   ],
   "source": [
    "a = '*some string*'\n",
    "print(a.lstrip('*'))\n",
    "print(a.rstrip('*'))\n",
    "print(a.strip('*'))"
   ]
  },
  {
   "cell_type": "markdown",
   "id": "265ac140",
   "metadata": {},
   "source": [
    "More on strings once other compound types will be covered.\n",
    "\n",
    "\n",
    "## Compound types\n",
    "\n",
    "### List"
   ]
  },
  {
   "cell_type": "markdown",
   "id": "f1c3521b",
   "metadata": {},
   "source": [
    "Lists are most popular of compound types. List as a name says may contain many elements of different types, however it is not recommended to create lists from items of different types. \n",
    "\n",
    "Lists are created:\n",
    "- `l = [1, 2, 3]`\n",
    "- `l = list(iterable)` this initieates a empty list\n",
    "- `l = []` this also creates an empty list"
   ]
  },
  {
   "cell_type": "markdown",
   "id": "df42b197",
   "metadata": {},
   "source": [
    "several properties of lists:\n",
    "- list can be concatenated"
   ]
  },
  {
   "cell_type": "code",
   "execution_count": 34,
   "id": "1c7f1f81",
   "metadata": {},
   "outputs": [
    {
     "name": "stdout",
     "output_type": "stream",
     "text": [
      "[1, 2, 3, 2, 3, 4]\n"
     ]
    }
   ],
   "source": [
    "l1 = [1, 2, 3]\n",
    "l2 = [2, 3, 4]\n",
    "print(l1 + l2)"
   ]
  },
  {
   "cell_type": "markdown",
   "id": "abfb3736",
   "metadata": {},
   "source": [
    "- lists can be extended and shorted"
   ]
  },
  {
   "cell_type": "code",
   "execution_count": 36,
   "id": "b2f5d944",
   "metadata": {},
   "outputs": [
    {
     "name": "stdout",
     "output_type": "stream",
     "text": [
      "[1, 2, 3, 4, 5]\n",
      "[1, 2, 3, 4]\n"
     ]
    }
   ],
   "source": [
    "l = [1, 2, 3, 4]\n",
    "l.append(5)\n",
    "print(l)\n",
    "l.pop() # if specific index is passed, item at index is removed\n",
    "print(l)"
   ]
  },
  {
   "cell_type": "markdown",
   "id": "1d04abad",
   "metadata": {},
   "source": [
    "- lists are mutable"
   ]
  },
  {
   "cell_type": "code",
   "execution_count": 37,
   "id": "3caae54c",
   "metadata": {},
   "outputs": [
    {
     "name": "stdout",
     "output_type": "stream",
     "text": [
      "[5, 2, 3, 4]\n"
     ]
    }
   ],
   "source": [
    "l = [1, 2, 3, 4]\n",
    "l[0] = 5\n",
    "print(l)"
   ]
  },
  {
   "cell_type": "markdown",
   "id": "94ff8ebc",
   "metadata": {},
   "source": [
    " - lists are iterable: thus maming convention mame lists always plural"
   ]
  },
  {
   "cell_type": "code",
   "execution_count": 40,
   "id": "b42c5228",
   "metadata": {},
   "outputs": [
    {
     "name": "stdout",
     "output_type": "stream",
     "text": [
      "box\n",
      "ball\n",
      "sweater\n",
      "shirt\n"
     ]
    }
   ],
   "source": [
    "items = ['box', 'ball', 'sweater', 'shirt']\n",
    "for item in items:\n",
    "    print(item)"
   ]
  },
  {
   "cell_type": "code",
   "execution_count": null,
   "id": "3cbd3a5a",
   "metadata": {},
   "outputs": [],
   "source": []
  }
 ],
 "metadata": {
  "kernelspec": {
   "display_name": "Python 3",
   "language": "python",
   "name": "python3"
  },
  "language_info": {
   "codemirror_mode": {
    "name": "ipython",
    "version": 3
   },
   "file_extension": ".py",
   "mimetype": "text/x-python",
   "name": "python",
   "nbconvert_exporter": "python",
   "pygments_lexer": "ipython3",
   "version": "3.8.10"
  }
 },
 "nbformat": 4,
 "nbformat_minor": 5
}
